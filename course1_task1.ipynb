{
 "cells": [
  {
   "cell_type": "code",
   "execution_count": 14,
   "metadata": {},
   "outputs": [
    {
     "data": {
      "text/plain": [
       "'In comparison to dogs, cats have not undergone major changes during the domestication process.\\nAs cat simply catenates streams of bytes, it can be also used to concatenate binary files, where it will just concatenate sequence of bytes.\\nA common interactive use of cat for a single file is to output the content of a file to standard output.\\nCats can hear sounds too faint or too high in frequency for human ears, such as those made by mice and other small animals.\\nIn one, people deliberately tamed cats in a process of artificial selection, as they were useful predators of vermin.\\nThe domesticated cat and its closest wild ancestor are both diploid organisms that possess 38 chromosomes and roughly 20,000 genes.\\nDomestic cats are similar in size to the other members of the genus Felis, typically weighing between 4 and 5 kg (8.8 and 11.0 lb).\\nHowever, if the output is piped or redirected, cat is unnecessary.\\ncat with one named file is safer where human error is a concern - one wrong use of the default redirection symbol \">\" instead of \"<\" (often adjacent on keyboards) may permanently delete the file you were just needing to read.\\nIn terms of legibility, a sequence of commands starting with cat and connected by pipes has a clear left-to-right flow of information.\\nCat command is one of the basic commands that you learned when you started in the Unix / Linux world.\\nUsing cat command, the lines received from stdin can be redirected to a new file using redirection symbols.\\nWhen you type simply cat command without any arguments, it just receives the stdin content and displays it in the stdout.\\nLeopard was released on October 26, 2007 as the successor of Tiger (version 10.4), and is available in two editions.\\nAccording to Apple, Leopard contains over 300 changes and enhancements over its predecessor, Mac OS X Tiger.\\nAs of Mid 2010, some Apple computers have firmware factory installed which will no longer allow installation of Mac OS X Leopard.\\nSince Apple moved to using Intel processors in their computers, the OSx86 community has developed and now also allows Mac OS X Tiger and later releases to be installed on non-Apple x86-based computers.\\nOS X Mountain Lion was released on July 25, 2012 for purchase and download through Apple\\'s Mac App Store, as part of a switch to releasing OS X versions online and every year.\\nApple has released a small patch for the three most recent versions of Safari running on OS X Yosemite, Mavericks, and Mountain Lion.\\nThe Mountain Lion release marks the second time Apple has offered an incremental upgrade, rather than releasing a new cat entirely.\\nMac OS X Mountain Lion installs in place, so you won\\'t need to create a separate disk or run the installation off an external drive.\\nThe fifth major update to Mac OS X, Leopard, contains such a mountain of features - more than 300 by Apple\\'s count.\\n'"
      ]
     },
     "execution_count": 14,
     "metadata": {},
     "output_type": "execute_result"
    }
   ],
   "source": [
    "file=open('sentences.txt','r')\n",
    "file=file.read()#reading the file\n",
    "file"
   ]
  },
  {
   "cell_type": "code",
   "execution_count": 18,
   "metadata": {},
   "outputs": [],
   "source": [
    "import numpy as np\n",
    "import scipy\n",
    "import re"
   ]
  },
  {
   "cell_type": "code",
   "execution_count": 17,
   "metadata": {},
   "outputs": [
    {
     "name": "stdout",
     "output_type": "stream",
     "text": [
      "{'in': 11, 'comparison': 1, 'to': 13, 'dogs': 1, 'cats': 4, 'have': 2, 'not': 1, 'undergone': 1, 'major': 2, 'changes': 2, 'during': 1, 'the': 20, 'domestication': 1, 'process': 2, 's': 6, 'cat': 10, 'simply': 2, 'catenates': 1, 'streams': 1, 'of': 19, 'bytes': 2, 'it': 4, 'can': 3, 'be': 3, 'lso': 2, 'used': 1, 'concatenate': 2, 'binary': 1, 'files': 1, 'where': 2, 'will': 2, 'just': 3, 'sequence': 2, '': 15, 'common': 1, 'interactive': 1, 'use': 2, 'for': 4, 'single': 1, 'file': 5, 'is': 7, 'output': 3, 'content': 2, 'standard': 1, 'hear': 1, 'sounds': 1, 'too': 2, 'faint': 1, 'or': 3, 'high': 1, 'frequency': 1, 'human': 2, 'ears': 1, 'such': 2, 'those': 1, 'made': 1, 'by': 3, 'mice': 1, 'nd': 14, 'other': 2, 'small': 2, 'nimals': 1, 'one': 4, 'people': 1, 'deliberately': 1, 'tamed': 1, 'rtificial': 1, 'selection': 1, 'they': 1, 'were': 2, 'useful': 1, 'predators': 1, 'vermin': 1, 'domesticated': 1, 'its': 2, 'closest': 1, 'wild': 1, 'ncestor': 1, 're': 2, 'both': 1, 'diploid': 1, 'organisms': 1, 'that': 2, 'possess': 1, '38': 1, 'chromosomes': 1, 'roughly': 1, '20,000': 1, 'genes': 1, 'domestic': 1, 'similar': 1, 'size': 1, 'members': 1, 'genus': 1, 'felis': 1, 'typically': 1, 'weighing': 1, 'between': 1, '4': 1, '5': 1, 'kg': 1, '(8.8': 1, '11.0': 1, 'lb)': 1, 'however': 1, 'if': 1, 'piped': 1, 'redirected': 2, 'unnecessary': 1, 'with': 2, 'named': 1, 'safer': 1, 'error': 1, 'concern': 1, 'wrong': 1, 'default': 1, 'redirection': 2, 'symbol': 1, '\">\"': 1, 'instead': 1, '\"<\"': 1, '(often': 1, 'djacent': 1, 'on': 5, 'keyboards)': 1, 'may': 1, 'permanently': 1, 'delete': 1, 'you': 5, 'needing': 1, 'read': 1, 'terms': 1, 'legibility': 1, 'commands': 2, 'starting': 1, 'connected': 1, 'pipes': 1, 'has': 4, 'clear': 1, 'left-to-right': 1, 'flow': 1, 'information': 1, 'command': 3, 'basic': 1, 'learned': 1, 'when': 2, 'started': 1, 'unix': 1, '/': 1, 'linux': 1, 'world': 1, 'using': 3, 'lines': 1, 'received': 1, 'from': 1, 'stdin': 2, 'new': 2, 'symbols': 1, 'type': 1, 'without': 1, 'ny': 1, 'rguments': 1, 'receives': 1, 'displays': 1, 'stdout': 1, 'leopard': 4, 'was': 2, 'released': 3, 'october': 1, '26': 1, '2007': 1, 'successor': 1, 'tiger': 3, '(version': 1, '10.4)': 1, 'vailable': 1, 'two': 1, 'editions': 1, 'ccording': 1, 'pple': 5, 'contains': 2, 'over': 2, '300': 2, 'enhancements': 1, 'predecessor': 1, 'mac': 6, 'os': 8, 'x': 8, 'mid': 1, '2010': 1, 'some': 1, 'computers': 3, 'firmware': 1, 'factory': 1, 'installed': 2, 'which': 1, 'no': 1, 'longer': 1, 'llow': 1, 'installation': 2, 'since': 1, 'moved': 1, 'intel': 1, 'processors': 1, 'their': 1, 'osx86': 1, 'community': 1, 'developed': 1, 'now': 1, 'llows': 1, 'later': 1, 'releases': 1, 'non-apple': 1, 'x86-based': 1, 'mountain': 5, 'lion': 4, 'july': 1, '25': 1, '2012': 1, 'purchase': 1, 'download': 1, 'through': 1, \"pple's\": 2, 'pp': 1, 'store': 1, 'part': 1, 'switch': 1, 'releasing': 2, 'versions': 2, 'online': 1, 'every': 1, 'year': 1, 'patch': 1, 'three': 1, 'most': 1, 'recent': 1, 'safari': 1, 'running': 1, 'yosemite': 1, 'mavericks': 1, 'release': 1, 'marks': 1, 'second': 1, 'time': 1, 'offered': 1, 'n': 2, 'incremental': 1, 'upgrade': 1, 'rather': 1, 'than': 2, 'entirely': 1, 'installs': 1, 'place': 1, 'so': 1, \"won't\": 1, 'need': 1, 'create': 1, 'separate': 1, 'disk': 1, 'run': 1, 'off': 1, 'external': 1, 'drive': 1, 'fifth': 1, 'update': 1, 'features': 1, 'more': 1, 'count': 1}\n"
     ]
    },
    {
     "data": {
      "text/plain": [
       "268"
      ]
     },
     "execution_count": 17,
     "metadata": {},
     "output_type": "execute_result"
    }
   ],
   "source": [
    "file_dict=dict()\n",
    "\n",
    "for line in file.split():\n",
    "    cleaned_line=line.lower().strip('[^a-z].*-,!\\n')\n",
    "    if cleaned_line not in file_dict:\n",
    "        file_dict[cleaned_line]=0\n",
    "    file_dict[cleaned_line]+=1\n",
    "print(file_dict)\n",
    "len(file_dict)"
   ]
  },
  {
   "cell_type": "code",
   "execution_count": null,
   "metadata": {},
   "outputs": [],
   "source": []
  }
 ],
 "metadata": {
  "kernelspec": {
   "display_name": "Python 3",
   "language": "python",
   "name": "python3"
  },
  "language_info": {
   "codemirror_mode": {
    "name": "ipython",
    "version": 3
   },
   "file_extension": ".py",
   "mimetype": "text/x-python",
   "name": "python",
   "nbconvert_exporter": "python",
   "pygments_lexer": "ipython3",
   "version": "3.6.8"
  }
 },
 "nbformat": 4,
 "nbformat_minor": 2
}
